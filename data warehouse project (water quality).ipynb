{
 "cells": [
  {
   "cell_type": "markdown",
   "id": "b7c2323a",
   "metadata": {},
   "source": [
    "## STEP 1:"
   ]
  },
  {
   "cell_type": "code",
   "execution_count": null,
   "id": "5d46f0ed",
   "metadata": {},
   "outputs": [],
   "source": [
    "pip install --upgrade sodapy"
   ]
  },
  {
   "cell_type": "code",
   "execution_count": null,
   "id": "7daba084",
   "metadata": {},
   "outputs": [],
   "source": [
    "pip install --upgrade db-dtypes"
   ]
  },
  {
   "cell_type": "code",
   "execution_count": null,
   "id": "a693cc61",
   "metadata": {},
   "outputs": [],
   "source": [
    "pip install --upgrade pyarrow"
   ]
  },
  {
   "cell_type": "code",
   "execution_count": null,
   "id": "9d05723e",
   "metadata": {},
   "outputs": [],
   "source": [
    "pip install --upgrade google-cloud-bigquery"
   ]
  },
  {
   "cell_type": "code",
   "execution_count": 1,
   "id": "9125cd82",
   "metadata": {},
   "outputs": [],
   "source": [
    "# import libraries\n",
    "import pandas as pd\n",
    "import numpy as np\n",
    "from sodapy import Socrata\n",
    "from google.cloud import bigquery\n",
    "from google.oauth2 import service_account"
   ]
  },
  {
   "cell_type": "markdown",
   "id": "32c59dc5",
   "metadata": {},
   "source": [
    "## STEP 2:"
   ]
  },
  {
   "cell_type": "markdown",
   "id": "b0a534fe",
   "metadata": {},
   "source": [
    "### drinking water fact and dimensions"
   ]
  },
  {
   "cell_type": "markdown",
   "id": "23f79081",
   "metadata": {},
   "source": [
    "##### step 2.1"
   ]
  },
  {
   "cell_type": "code",
   "execution_count": 2,
   "id": "089bbb5b",
   "metadata": {},
   "outputs": [],
   "source": [
    "# setup the host name for the API endpoint \n",
    "data_url = 'data.cityofnewyork.us'"
   ]
  },
  {
   "cell_type": "code",
   "execution_count": 3,
   "id": "2e3496d6",
   "metadata": {},
   "outputs": [],
   "source": [
    "# https://data.cityofnewyork.us/resource/bkwf-xfky.json\n",
    "drinking_water = 'bkwf-xfky'"
   ]
  },
  {
   "cell_type": "code",
   "execution_count": 4,
   "id": "28a75061",
   "metadata": {},
   "outputs": [],
   "source": [
    "# Setup App Token\n",
    "app_token = '68xD3x8f4S30r1Df8zIDK2VZ4'"
   ]
  },
  {
   "cell_type": "code",
   "execution_count": 5,
   "id": "ed451210",
   "metadata": {},
   "outputs": [
    {
     "name": "stdout",
     "output_type": "stream",
     "text": [
      "nyc open data client name is: <sodapy.socrata.Socrata object at 0x7f91d2ebc310>\n",
      "nyc open data client data type is: <class 'sodapy.socrata.Socrata'>\n"
     ]
    }
   ],
   "source": [
    "# setup Socrata client that connects python to NYC Open Data\n",
    "# create the client that points to the API endpoint\n",
    "nyc_open_data_client = Socrata(data_url, app_token, timeout = 200)\n",
    "print(f\"nyc open data client name is: {nyc_open_data_client}\")\n",
    "print(f\"nyc open data client data type is: {type(nyc_open_data_client)}\")"
   ]
  },
  {
   "cell_type": "markdown",
   "id": "b4fca7b6",
   "metadata": {},
   "source": [
    "##### step 2.2"
   ]
  },
  {
   "cell_type": "code",
   "execution_count": 6,
   "id": "5af9ef64",
   "metadata": {},
   "outputs": [],
   "source": [
    "key_path = r'cis9440-340719-37a24169420f.json'"
   ]
  },
  {
   "cell_type": "code",
   "execution_count": 7,
   "id": "60be312a",
   "metadata": {},
   "outputs": [
    {
     "name": "stdout",
     "output_type": "stream",
     "text": [
      "bigquery client name is: <google.cloud.bigquery.client.Client object at 0x7f91d2ebc5e0>\n",
      "bigquery client data type is: <class 'google.cloud.bigquery.client.Client'>\n"
     ]
    }
   ],
   "source": [
    "#setup credentials\n",
    "credentials = service_account.Credentials.from_service_account_file(key_path,\n",
    "                                                                    scopes=[\"https://www.googleapis.com/auth/cloud-platform\"],)\n",
    "bigquery_client = bigquery.Client(credentials = credentials,\n",
    "                                 project = credentials.project_id)\n",
    "\n",
    "print(f\"bigquery client name is: {bigquery_client}\")\n",
    "print(f\"bigquery client data type is: {type(bigquery_client)}\")"
   ]
  },
  {
   "cell_type": "code",
   "execution_count": 8,
   "id": "a26aee2b",
   "metadata": {},
   "outputs": [
    {
     "name": "stdout",
     "output_type": "stream",
     "text": [
      "your dataset_id is: cis9440-340719.etl_dataset\n"
     ]
    }
   ],
   "source": [
    "dataset_id = 'cis9440-340719.etl_dataset' \n",
    "\n",
    "dataset_id = dataset_id.replace(':', '.')\n",
    "print(f\"your dataset_id is: {dataset_id}\")"
   ]
  },
  {
   "cell_type": "markdown",
   "id": "00c2fd72",
   "metadata": {},
   "source": [
    "## STEP 3"
   ]
  },
  {
   "cell_type": "code",
   "execution_count": 9,
   "id": "5667ec89",
   "metadata": {},
   "outputs": [
    {
     "name": "stdout",
     "output_type": "stream",
     "text": [
      "total records in bkwf-xfky: [{'COUNT': '112219'}]\n"
     ]
    }
   ],
   "source": [
    "# Get the total number of records in the entire data set\n",
    "total_record_count = nyc_open_data_client.get(drinking_water, select = \"COUNT(*)\")\n",
    "print(f\"total records in {drinking_water}: {total_record_count}\")"
   ]
  },
  {
   "cell_type": "code",
   "execution_count": 10,
   "id": "4d346da5",
   "metadata": {},
   "outputs": [
    {
     "name": "stdout",
     "output_type": "stream",
     "text": [
      "target records in bkwf-xfky: [{'COUNT': '48786'}]\n"
     ]
    }
   ],
   "source": [
    "# Get the total number of records in target data set\n",
    "\n",
    "target_record_count = nyc_open_data_client.get(drinking_water,\n",
    "                                               where = \"sample_date > '2019-01-01'\",\n",
    "                                               select= \"COUNT(*)\")\n",
    "print(f\"target records in {drinking_water}: {target_record_count}\")"
   ]
  },
  {
   "cell_type": "code",
   "execution_count": 11,
   "id": "c3a94b95",
   "metadata": {},
   "outputs": [
    {
     "name": "stdout",
     "output_type": "stream",
     "text": [
      "function took 7.0 seconds\n",
      "the shape of your dataframe is: (48786, 10)\n"
     ]
    }
   ],
   "source": [
    "#loop through target data set to pull all rows in chunks \n",
    "\n",
    "def pull_data_in_chunks(target_record_count):\n",
    "    \n",
    "    # measure time this function takes\n",
    "    import time\n",
    "    start_time = time.time()\n",
    "\n",
    "    start = 0             # start at 0\n",
    "    chunk_size = 2000     # fetch 2000 rows at a time\n",
    "    results = []          # empty out our result list\n",
    "    record_count = target_record_count\n",
    "\n",
    "    while True:\n",
    "\n",
    "        # fetch the set of records starting at 'start'\n",
    "        results.extend(nyc_open_data_client.get(drinking_water,\n",
    "                                                where = \"sample_date > '2019-01-01'\",\n",
    "                                                offset = start,\n",
    "                                                limit = chunk_size))\n",
    "\n",
    "        # update the starting record number\n",
    "        start = start + chunk_size\n",
    "\n",
    "        # if we have fetched all of the records (we have reached record_count), exit loop\n",
    "        if (start > int(record_count[0]['COUNT'])):\n",
    "            break\n",
    "\n",
    "    # convert the list into a pandas data frame\n",
    "    drinking_water_data = pd.DataFrame.from_records(results)\n",
    "\n",
    "    end_time = time.time()\n",
    "    print(f\"function took {round(end_time - start_time, 1)} seconds\")\n",
    "\n",
    "    print(f\"the shape of your dataframe is: {drinking_water_data.shape}\")\n",
    "    return drinking_water_data\n",
    "\n",
    "drinking_water_data = pull_data_in_chunks(target_record_count)"
   ]
  },
  {
   "cell_type": "code",
   "execution_count": 12,
   "id": "b0192355",
   "metadata": {},
   "outputs": [
    {
     "data": {
      "text/html": [
       "<div>\n",
       "<style scoped>\n",
       "    .dataframe tbody tr th:only-of-type {\n",
       "        vertical-align: middle;\n",
       "    }\n",
       "\n",
       "    .dataframe tbody tr th {\n",
       "        vertical-align: top;\n",
       "    }\n",
       "\n",
       "    .dataframe thead th {\n",
       "        text-align: right;\n",
       "    }\n",
       "</style>\n",
       "<table border=\"1\" class=\"dataframe\">\n",
       "  <thead>\n",
       "    <tr style=\"text-align: right;\">\n",
       "      <th></th>\n",
       "      <th>sample_number</th>\n",
       "      <th>sample_date</th>\n",
       "      <th>sample_time</th>\n",
       "      <th>sample_site</th>\n",
       "      <th>sample_class</th>\n",
       "      <th>residual_free_chlorine_mg_l</th>\n",
       "      <th>turbidity_ntu</th>\n",
       "      <th>fluoride_mg_l</th>\n",
       "      <th>coliform_quanti_tray_mpn_100ml</th>\n",
       "      <th>e_coli_quanti_tray_mpn_100ml</th>\n",
       "    </tr>\n",
       "  </thead>\n",
       "  <tbody>\n",
       "    <tr>\n",
       "      <th>0</th>\n",
       "      <td>201900113</td>\n",
       "      <td>2019-01-02T00:00:00.000</td>\n",
       "      <td>09:39</td>\n",
       "      <td>31650</td>\n",
       "      <td>Compliance</td>\n",
       "      <td>0.31</td>\n",
       "      <td>0.55</td>\n",
       "      <td>0.68</td>\n",
       "      <td>&lt;1</td>\n",
       "      <td>&lt;1</td>\n",
       "    </tr>\n",
       "    <tr>\n",
       "      <th>1</th>\n",
       "      <td>201900114</td>\n",
       "      <td>2019-01-02T00:00:00.000</td>\n",
       "      <td>08:59</td>\n",
       "      <td>33550</td>\n",
       "      <td>Compliance</td>\n",
       "      <td>0.25</td>\n",
       "      <td>0.52</td>\n",
       "      <td>0.68</td>\n",
       "      <td>&lt;1</td>\n",
       "      <td>&lt;1</td>\n",
       "    </tr>\n",
       "    <tr>\n",
       "      <th>2</th>\n",
       "      <td>201900115</td>\n",
       "      <td>2019-01-02T00:00:00.000</td>\n",
       "      <td>10:36</td>\n",
       "      <td>37450</td>\n",
       "      <td>Compliance</td>\n",
       "      <td>0.4</td>\n",
       "      <td>0.75</td>\n",
       "      <td>0.71</td>\n",
       "      <td>&lt;1</td>\n",
       "      <td>&lt;1</td>\n",
       "    </tr>\n",
       "    <tr>\n",
       "      <th>3</th>\n",
       "      <td>201900116</td>\n",
       "      <td>2019-01-02T00:00:00.000</td>\n",
       "      <td>11:21</td>\n",
       "      <td>3SC26</td>\n",
       "      <td>Operational</td>\n",
       "      <td>0.64</td>\n",
       "      <td>&lt;0.10</td>\n",
       "      <td>0.70</td>\n",
       "      <td>&lt;1</td>\n",
       "      <td>&lt;1</td>\n",
       "    </tr>\n",
       "    <tr>\n",
       "      <th>4</th>\n",
       "      <td>201900119</td>\n",
       "      <td>2019-01-02T00:00:00.000</td>\n",
       "      <td>11:23</td>\n",
       "      <td>50200</td>\n",
       "      <td>Operational</td>\n",
       "      <td>0.77</td>\n",
       "      <td>0.66</td>\n",
       "      <td>NaN</td>\n",
       "      <td>&lt;1</td>\n",
       "      <td>&lt;1</td>\n",
       "    </tr>\n",
       "  </tbody>\n",
       "</table>\n",
       "</div>"
      ],
      "text/plain": [
       "  sample_number              sample_date sample_time sample_site sample_class  \\\n",
       "0     201900113  2019-01-02T00:00:00.000       09:39       31650   Compliance   \n",
       "1     201900114  2019-01-02T00:00:00.000       08:59       33550   Compliance   \n",
       "2     201900115  2019-01-02T00:00:00.000       10:36       37450   Compliance   \n",
       "3     201900116  2019-01-02T00:00:00.000       11:21       3SC26  Operational   \n",
       "4     201900119  2019-01-02T00:00:00.000       11:23       50200  Operational   \n",
       "\n",
       "  residual_free_chlorine_mg_l turbidity_ntu fluoride_mg_l  \\\n",
       "0                        0.31          0.55          0.68   \n",
       "1                        0.25          0.52          0.68   \n",
       "2                         0.4          0.75          0.71   \n",
       "3                        0.64         <0.10          0.70   \n",
       "4                        0.77          0.66           NaN   \n",
       "\n",
       "  coliform_quanti_tray_mpn_100ml e_coli_quanti_tray_mpn_100ml  \n",
       "0                             <1                           <1  \n",
       "1                             <1                           <1  \n",
       "2                             <1                           <1  \n",
       "3                             <1                           <1  \n",
       "4                             <1                           <1  "
      ]
     },
     "execution_count": 12,
     "metadata": {},
     "output_type": "execute_result"
    }
   ],
   "source": [
    "drinking_water_data.head()"
   ]
  },
  {
   "cell_type": "markdown",
   "id": "ec8b9ba1",
   "metadata": {},
   "source": [
    "## STEP 4"
   ]
  },
  {
   "cell_type": "markdown",
   "id": "9183a34f",
   "metadata": {},
   "source": [
    "### data profiling"
   ]
  },
  {
   "cell_type": "code",
   "execution_count": 13,
   "id": "dd3fee3c",
   "metadata": {},
   "outputs": [
    {
     "data": {
      "text/plain": [
       "Index(['sample_number', 'sample_date', 'sample_time', 'sample_site',\n",
       "       'sample_class', 'residual_free_chlorine_mg_l', 'turbidity_ntu',\n",
       "       'fluoride_mg_l', 'coliform_quanti_tray_mpn_100ml',\n",
       "       'e_coli_quanti_tray_mpn_100ml'],\n",
       "      dtype='object')"
      ]
     },
     "execution_count": 13,
     "metadata": {},
     "output_type": "execute_result"
    }
   ],
   "source": [
    "# what are the columns in dataframe?\n",
    "drinking_water_data.columns"
   ]
  },
  {
   "cell_type": "code",
   "execution_count": 14,
   "id": "2120793a",
   "metadata": {},
   "outputs": [],
   "source": [
    "# create and run a function to ceate data profiling dataframe\n",
    "\n",
    "def create_data_profiling_df(data):\n",
    "    \n",
    "    # create an empty dataframe to gather information about each column\n",
    "    data_profiling_df = pd.DataFrame(columns = [\"column_name\",\n",
    "                                                \"column_type\",\n",
    "                                                \"unique_values\",\n",
    "                                                \"duplicate_values\",\n",
    "                                                \"null_values\",\n",
    "                                                \"non_null_values\",\n",
    "                                                \"percent_null\"])\n",
    "\n",
    "    # loop through each column to add rows to the data_profiling_df dataframe\n",
    "    for column in data.columns:\n",
    "\n",
    "        info_dict = {}\n",
    "\n",
    "        try:\n",
    "            info_dict[\"column_name\"] = column\n",
    "            info_dict[\"column_type\"] = data[column].dtypes\n",
    "            info_dict[\"unique_values\"] = len(data[column].unique())\n",
    "            info_dict[\"duplicate_values\"] = (data[column].shape[0] - data[column].isna().sum()) - len(data[column].unique())\n",
    "            info_dict[\"null_values\"] = data[column].isna().sum()\n",
    "            info_dict[\"non_null_values\"] = data[column].shape[0] - data[column].isna().sum()\n",
    "            info_dict[\"percent_null\"] = round((data[column].isna().sum()) / (data[column].shape[0]), 3)\n",
    "\n",
    "        except:\n",
    "            print(f\"unable to read column: {column}, you may want to drop this column\")\n",
    "\n",
    "        data_profiling_df = data_profiling_df.append(info_dict, ignore_index=True)\n",
    "\n",
    "    data_profiling_df.sort_values(by = ['unique_values', \"non_null_values\"],\n",
    "                                  ascending = [False, False],\n",
    "                                  inplace=True)\n",
    "    \n",
    "    return data_profiling_df\n",
    "\n",
    "drinking_water_data_profiling_df = create_data_profiling_df(drinking_water_data)"
   ]
  },
  {
   "cell_type": "code",
   "execution_count": 15,
   "id": "67bdbedb",
   "metadata": {},
   "outputs": [
    {
     "data": {
      "text/html": [
       "<div>\n",
       "<style scoped>\n",
       "    .dataframe tbody tr th:only-of-type {\n",
       "        vertical-align: middle;\n",
       "    }\n",
       "\n",
       "    .dataframe tbody tr th {\n",
       "        vertical-align: top;\n",
       "    }\n",
       "\n",
       "    .dataframe thead th {\n",
       "        text-align: right;\n",
       "    }\n",
       "</style>\n",
       "<table border=\"1\" class=\"dataframe\">\n",
       "  <thead>\n",
       "    <tr style=\"text-align: right;\">\n",
       "      <th></th>\n",
       "      <th>column_name</th>\n",
       "      <th>column_type</th>\n",
       "      <th>unique_values</th>\n",
       "      <th>duplicate_values</th>\n",
       "      <th>null_values</th>\n",
       "      <th>non_null_values</th>\n",
       "      <th>percent_null</th>\n",
       "    </tr>\n",
       "  </thead>\n",
       "  <tbody>\n",
       "    <tr>\n",
       "      <th>0</th>\n",
       "      <td>sample_number</td>\n",
       "      <td>object</td>\n",
       "      <td>48786</td>\n",
       "      <td>0</td>\n",
       "      <td>0</td>\n",
       "      <td>48786</td>\n",
       "      <td>0.000</td>\n",
       "    </tr>\n",
       "    <tr>\n",
       "      <th>1</th>\n",
       "      <td>sample_date</td>\n",
       "      <td>object</td>\n",
       "      <td>1155</td>\n",
       "      <td>47631</td>\n",
       "      <td>0</td>\n",
       "      <td>48786</td>\n",
       "      <td>0.000</td>\n",
       "    </tr>\n",
       "    <tr>\n",
       "      <th>2</th>\n",
       "      <td>sample_time</td>\n",
       "      <td>object</td>\n",
       "      <td>471</td>\n",
       "      <td>48315</td>\n",
       "      <td>0</td>\n",
       "      <td>48786</td>\n",
       "      <td>0.000</td>\n",
       "    </tr>\n",
       "    <tr>\n",
       "      <th>3</th>\n",
       "      <td>sample_site</td>\n",
       "      <td>object</td>\n",
       "      <td>393</td>\n",
       "      <td>48393</td>\n",
       "      <td>0</td>\n",
       "      <td>48786</td>\n",
       "      <td>0.000</td>\n",
       "    </tr>\n",
       "    <tr>\n",
       "      <th>6</th>\n",
       "      <td>turbidity_ntu</td>\n",
       "      <td>object</td>\n",
       "      <td>208</td>\n",
       "      <td>48578</td>\n",
       "      <td>0</td>\n",
       "      <td>48786</td>\n",
       "      <td>0.000</td>\n",
       "    </tr>\n",
       "    <tr>\n",
       "      <th>5</th>\n",
       "      <td>residual_free_chlorine_mg_l</td>\n",
       "      <td>object</td>\n",
       "      <td>140</td>\n",
       "      <td>48644</td>\n",
       "      <td>2</td>\n",
       "      <td>48784</td>\n",
       "      <td>0.000</td>\n",
       "    </tr>\n",
       "    <tr>\n",
       "      <th>7</th>\n",
       "      <td>fluoride_mg_l</td>\n",
       "      <td>object</td>\n",
       "      <td>47</td>\n",
       "      <td>6378</td>\n",
       "      <td>42361</td>\n",
       "      <td>6425</td>\n",
       "      <td>0.868</td>\n",
       "    </tr>\n",
       "    <tr>\n",
       "      <th>8</th>\n",
       "      <td>coliform_quanti_tray_mpn_100ml</td>\n",
       "      <td>object</td>\n",
       "      <td>40</td>\n",
       "      <td>48733</td>\n",
       "      <td>13</td>\n",
       "      <td>48773</td>\n",
       "      <td>0.000</td>\n",
       "    </tr>\n",
       "    <tr>\n",
       "      <th>4</th>\n",
       "      <td>sample_class</td>\n",
       "      <td>object</td>\n",
       "      <td>4</td>\n",
       "      <td>48782</td>\n",
       "      <td>0</td>\n",
       "      <td>48786</td>\n",
       "      <td>0.000</td>\n",
       "    </tr>\n",
       "    <tr>\n",
       "      <th>9</th>\n",
       "      <td>e_coli_quanti_tray_mpn_100ml</td>\n",
       "      <td>object</td>\n",
       "      <td>4</td>\n",
       "      <td>48769</td>\n",
       "      <td>13</td>\n",
       "      <td>48773</td>\n",
       "      <td>0.000</td>\n",
       "    </tr>\n",
       "  </tbody>\n",
       "</table>\n",
       "</div>"
      ],
      "text/plain": [
       "                      column_name column_type unique_values duplicate_values  \\\n",
       "0                   sample_number      object         48786                0   \n",
       "1                     sample_date      object          1155            47631   \n",
       "2                     sample_time      object           471            48315   \n",
       "3                     sample_site      object           393            48393   \n",
       "6                   turbidity_ntu      object           208            48578   \n",
       "5     residual_free_chlorine_mg_l      object           140            48644   \n",
       "7                   fluoride_mg_l      object            47             6378   \n",
       "8  coliform_quanti_tray_mpn_100ml      object            40            48733   \n",
       "4                    sample_class      object             4            48782   \n",
       "9    e_coli_quanti_tray_mpn_100ml      object             4            48769   \n",
       "\n",
       "  null_values non_null_values  percent_null  \n",
       "0           0           48786         0.000  \n",
       "1           0           48786         0.000  \n",
       "2           0           48786         0.000  \n",
       "3           0           48786         0.000  \n",
       "6           0           48786         0.000  \n",
       "5           2           48784         0.000  \n",
       "7       42361            6425         0.868  \n",
       "8          13           48773         0.000  \n",
       "4           0           48786         0.000  \n",
       "9          13           48773         0.000  "
      ]
     },
     "execution_count": 15,
     "metadata": {},
     "output_type": "execute_result"
    }
   ],
   "source": [
    "drinking_water_data_profiling_df"
   ]
  },
  {
   "cell_type": "code",
   "execution_count": 16,
   "id": "e560084a",
   "metadata": {},
   "outputs": [
    {
     "name": "stdout",
     "output_type": "stream",
     "text": [
      "<class 'pandas.core.frame.DataFrame'>\n",
      "RangeIndex: 48786 entries, 0 to 48785\n",
      "Data columns (total 10 columns):\n",
      " #   Column                          Non-Null Count  Dtype \n",
      "---  ------                          --------------  ----- \n",
      " 0   sample_number                   48786 non-null  object\n",
      " 1   sample_date                     48786 non-null  object\n",
      " 2   sample_time                     48786 non-null  object\n",
      " 3   sample_site                     48786 non-null  object\n",
      " 4   sample_class                    48786 non-null  object\n",
      " 5   residual_free_chlorine_mg_l     48784 non-null  object\n",
      " 6   turbidity_ntu                   48786 non-null  object\n",
      " 7   fluoride_mg_l                   6425 non-null   object\n",
      " 8   coliform_quanti_tray_mpn_100ml  48773 non-null  object\n",
      " 9   e_coli_quanti_tray_mpn_100ml    48773 non-null  object\n",
      "dtypes: object(10)\n",
      "memory usage: 3.7+ MB\n"
     ]
    }
   ],
   "source": [
    "drinking_water_data.info()"
   ]
  },
  {
   "cell_type": "code",
   "execution_count": 17,
   "id": "3f5321d4",
   "metadata": {},
   "outputs": [
    {
     "name": "stdout",
     "output_type": "stream",
     "text": [
      "columns left in dataframe: Index(['sample_number', 'sample_date', 'sample_time',\n",
      "       'residual_free_chlorine_mg_l', 'turbidity_ntu',\n",
      "       'e_coli_quanti_tray_mpn_100ml'],\n",
      "      dtype='object')\n"
     ]
    }
   ],
   "source": [
    "drop_columns = ['sample_class','sample_site','coliform_quanti_tray_mpn_100ml','fluoride_mg_l']\n",
    "\n",
    "for column in drop_columns:\n",
    "    try:\n",
    "        drinking_water_data.drop(column, axis = 1, inplace = True)\n",
    "    except:\n",
    "        print(f\"unable to drop {column}\")\n",
    "\n",
    "print(f\"columns left in dataframe: {drinking_water_data.columns}\")"
   ]
  },
  {
   "cell_type": "code",
   "execution_count": 18,
   "id": "08d45d35",
   "metadata": {},
   "outputs": [
    {
     "name": "stdout",
     "output_type": "stream",
     "text": [
      "number of duplicate rows: 0\n"
     ]
    }
   ],
   "source": [
    "print(f\"number of duplicate rows: {len(drinking_water_data[drinking_water_data.duplicated()])}\")"
   ]
  },
  {
   "cell_type": "markdown",
   "id": "2994ebc9",
   "metadata": {},
   "source": [
    "### change data type"
   ]
  },
  {
   "cell_type": "code",
   "execution_count": 19,
   "id": "398c908d",
   "metadata": {},
   "outputs": [
    {
     "data": {
      "text/plain": [
       "array(['0.55', '0.52', '0.75', '<0.10', '0.66', '0.65', '0.63', '0.71',\n",
       "       '0.86', '0.81', '0.73', '0.46', '0.83', '0.72', '0.67', '0.68',\n",
       "       '0.7', '0.74', '0.6', '0.78', '0.25', '0.82', '0.57', '0.58',\n",
       "       '0.64', '0.49', '0.89', '0.61', '0.47', '0.76', '0.4', '0.43',\n",
       "       '0.54', '0.8', '0.69', '0.56', '0.59', '0.18', '0.88', '0.15',\n",
       "       '0.38', '0.11', '0.62', '1.23', '0.77', '0.87', '0.79', '0.1',\n",
       "       '0.44', '0.51', '0.9', '0.5', '0.85', '0.96', '0.14', '0.48',\n",
       "       '1.22', '0.13', '0.45', '0.39', '0.34', '0.31', '0.12', '0.35',\n",
       "       '0.3', '0.27', '0.36', '0.41', '1.12', '0.26', '0.33', '0.37',\n",
       "       '0.32', '0.22', '0.92', '0.24', '0.42', '1.72', '0.53', '0.23',\n",
       "       '0.21', '0.19', '0.28', '0.29', '0.84', '1.24', '1.02', '1.08',\n",
       "       '1.03', '1.11', '0.99', '1', '1.01', '1.07', '0.97', '1.05',\n",
       "       '1.14', '0.95', '0.91', '0.93', '0.94', '0.98', '0.16', '0.2',\n",
       "       '2.33', '0.17', '1.2', '1.06', '1.13', '1.09', '1.04', '1.1',\n",
       "       '1.18', '1.15', '1.16', '1.85', '1.25', '1.32', '1.19', '4.3',\n",
       "       '2.24', '1.96', '1.48', '1.26', '1.8', '1.55', '14.1', '1.46',\n",
       "       '1.31', '3.57', '1.34', '1.45', '2.72', '1.67', '2.69', '1.36',\n",
       "       '1.35', '1.21', '2.11', '1.78', '1.28', '1.84', '1.37', '2.08',\n",
       "       '1.17', '2.85', '8.63', '3.21', '5.03', '7.4', '1.9', '8.04',\n",
       "       '1.83', '4.99', '2.07', '2.16', '1.47', '3.39', '2.12', '9.2',\n",
       "       '1.42', '1.39', '1.71', '2.18', '4.33', '2.67', '2.5', '1.98',\n",
       "       '1.33', '1.3', '1.61', '1.75', '1.92', '1.65', '1.53', '1.58',\n",
       "       '3.29', '2.82', '3.84', '1.77', '3.33', '2.2', '2.04', '1.7',\n",
       "       '1.27', '1.57', '1.41', '1.43', '1.38', '1.4', '1.52', '1.29',\n",
       "       '1.56', '2.88', '3.89', '4.58', '2.62', '3.46', '4.06', '5.68',\n",
       "       '1.73', '1.49', '1.63', '1.5', '1.74', '2', '1.68', '3.42'],\n",
       "      dtype=object)"
      ]
     },
     "execution_count": 19,
     "metadata": {},
     "output_type": "execute_result"
    }
   ],
   "source": [
    "drinking_water_data['turbidity_ntu'].unique()"
   ]
  },
  {
   "cell_type": "code",
   "execution_count": 20,
   "id": "59512b24",
   "metadata": {},
   "outputs": [],
   "source": [
    "drinking_water_data.loc[drinking_water_data['turbidity_ntu']=='<0.10','turbidity_ntu']=0"
   ]
  },
  {
   "cell_type": "code",
   "execution_count": 21,
   "id": "e61aee45",
   "metadata": {},
   "outputs": [
    {
     "data": {
      "text/plain": [
       "array(['0.31', '0.25', '0.4', '0.64', '0.77', '0.82', '0.65', '0.81',\n",
       "       '0.83', '0.93', '0.86', '0.54', '0.89', '0.76', '0.36', '0.37',\n",
       "       '0.45', '0.49', '0.63', '0.34', '0.73', '0.67', '0.57', '0.58',\n",
       "       '0.69', '0.68', '0.7', '0.87', '0.75', '0.55', '0.71', '0.26',\n",
       "       '0.51', '0.44', '0.62', '0.59', '0.72', '0.5', '0.38', '0.66',\n",
       "       '0.88', '0.6', '0.56', '0.96', '0.52', '0.9', '0.78', '0.91',\n",
       "       '0.39', '0.42', '0.2', '0.48', '0.97', '0.74', '0.28', '0.61',\n",
       "       '0.23', '0.46', '0.79', '0.84', '0.92', '0.8', '0.3', '0.33',\n",
       "       '0.85', '0.35', '0.47', '0.53', '0.32', '0.29', '0.27', '0.94',\n",
       "       '1.02', '0.24', '0.41', '0.13', '0.99', '0.43', '0.19', '1.01',\n",
       "       '0.21', '0.22', '0.12', '0.09', '0.95', '0.16', '0.15', '0.98',\n",
       "       '0.1', '0.18', '0.14', '0.06', '0.11', '0.02', '0.05', '0.17', '0',\n",
       "       '0.04', '0.07', '1', '0.08', '1.04', '1.03', '0.03', '1.11',\n",
       "       '1.09', '1.07', '1.05', '1.12', '1.1', '1.2', '1.15', '1.16',\n",
       "       '1.06', '1.13', '1.08', '0.01', '1.14', '1.19', '1.23', '1.21',\n",
       "       '1.18', nan, '1.17', '1.24', '1.22', '0.40', '0.80', '0.50',\n",
       "       '1.25', '0.60', '1.10', '0.30', '0.70', '0.20', '1.00', '0.90',\n",
       "       '0.10', '0.00', '1.30'], dtype=object)"
      ]
     },
     "execution_count": 21,
     "metadata": {},
     "output_type": "execute_result"
    }
   ],
   "source": [
    "drinking_water_data['residual_free_chlorine_mg_l'].unique()"
   ]
  },
  {
   "cell_type": "code",
   "execution_count": 22,
   "id": "3a54d387",
   "metadata": {},
   "outputs": [
    {
     "data": {
      "text/plain": [
       "array(['<1', '1', nan, '2'], dtype=object)"
      ]
     },
     "execution_count": 22,
     "metadata": {},
     "output_type": "execute_result"
    }
   ],
   "source": [
    "drinking_water_data['e_coli_quanti_tray_mpn_100ml'].unique()"
   ]
  },
  {
   "cell_type": "code",
   "execution_count": 23,
   "id": "26567b99",
   "metadata": {},
   "outputs": [],
   "source": [
    "drinking_water_data.loc[drinking_water_data['e_coli_quanti_tray_mpn_100ml']=='<1','e_coli_quanti_tray_mpn_100ml']=0"
   ]
  },
  {
   "cell_type": "code",
   "execution_count": 24,
   "id": "2965de0c",
   "metadata": {},
   "outputs": [],
   "source": [
    "drinking_water_data = drinking_water_data.astype({'turbidity_ntu':'float',\n",
    "                                                              'residual_free_chlorine_mg_l':'float',\n",
    "                                                              'e_coli_quanti_tray_mpn_100ml':'float'})"
   ]
  },
  {
   "cell_type": "code",
   "execution_count": 25,
   "id": "9278e96b",
   "metadata": {},
   "outputs": [
    {
     "name": "stdout",
     "output_type": "stream",
     "text": [
      "<class 'pandas.core.frame.DataFrame'>\n",
      "RangeIndex: 48786 entries, 0 to 48785\n",
      "Data columns (total 6 columns):\n",
      " #   Column                        Non-Null Count  Dtype  \n",
      "---  ------                        --------------  -----  \n",
      " 0   sample_number                 48786 non-null  object \n",
      " 1   sample_date                   48786 non-null  object \n",
      " 2   sample_time                   48786 non-null  object \n",
      " 3   residual_free_chlorine_mg_l   48784 non-null  float64\n",
      " 4   turbidity_ntu                 48786 non-null  float64\n",
      " 5   e_coli_quanti_tray_mpn_100ml  48773 non-null  float64\n",
      "dtypes: float64(3), object(3)\n",
      "memory usage: 2.2+ MB\n"
     ]
    }
   ],
   "source": [
    "drinking_water_data.info()"
   ]
  },
  {
   "cell_type": "markdown",
   "id": "ee64ae4f",
   "metadata": {},
   "source": [
    "## STEP 5"
   ]
  },
  {
   "cell_type": "markdown",
   "id": "c3b4ff81",
   "metadata": {},
   "source": [
    "### date dimension"
   ]
  },
  {
   "cell_type": "code",
   "execution_count": 26,
   "id": "d9afc1a8",
   "metadata": {},
   "outputs": [
    {
     "name": "stdout",
     "output_type": "stream",
     "text": [
      "date dimension created successfully, shape of dimension: (1156, 6)\n"
     ]
    }
   ],
   "source": [
    "#FORMAT_DATE('%Q', d) as fiscal_qtr,\n",
    "sql_query = \"\"\"\n",
    "            SELECT\n",
    "              CONCAT (FORMAT_DATE(\"%Y\",d),FORMAT_DATE(\"%m\",d),FORMAT_DATE(\"%d\",d)) as date_id,\n",
    "              d AS full_date,\n",
    "              FORMAT_DATE('%w', d) AS week_day,\n",
    "              FORMAT_DATE('%A', d) AS day_name,\n",
    "              FORMAT_DATE('%B', d) as month_name,\n",
    "              FORMAT_DATE('%Y', d) AS year,\n",
    "            FROM (\n",
    "              SELECT\n",
    "                *\n",
    "              FROM\n",
    "                UNNEST(GENERATE_DATE_ARRAY('2019-01-01', '2022-03-01', INTERVAL 1 DAY)) AS d )\n",
    "            \"\"\"\n",
    "\n",
    "# store extracted data in new dataframe\n",
    "date_dim = bigquery_client.query(sql_query).to_dataframe()\n",
    "\n",
    "# validate that > 0 rows have been extracted and return dataframe\n",
    "if len(date_dim) > 0:\n",
    "    print(f\"date dimension created successfully, shape of dimension: {date_dim.shape}\")\n",
    "else:\n",
    "    print(\"date dimension FAILED\")"
   ]
  },
  {
   "cell_type": "code",
   "execution_count": 27,
   "id": "56e9392f",
   "metadata": {},
   "outputs": [],
   "source": [
    "# create date_id column in the Fact Table\n",
    "drinking_water_data['date_id'] = drinking_water_data['sample_date'].apply(lambda x: pd.to_datetime(x).strftime(\"%Y%m%d\"))"
   ]
  },
  {
   "cell_type": "markdown",
   "id": "d14c1c26",
   "metadata": {},
   "source": [
    "### sample_dim"
   ]
  },
  {
   "cell_type": "code",
   "execution_count": 28,
   "id": "f816ed75",
   "metadata": {},
   "outputs": [],
   "source": [
    "sample_dim = drinking_water_data.copy()"
   ]
  },
  {
   "cell_type": "code",
   "execution_count": 29,
   "id": "9ba007fd",
   "metadata": {},
   "outputs": [
    {
     "data": {
      "text/plain": [
       "Index(['sample_number', 'sample_date', 'sample_time',\n",
       "       'residual_free_chlorine_mg_l', 'turbidity_ntu',\n",
       "       'e_coli_quanti_tray_mpn_100ml', 'date_id'],\n",
       "      dtype='object')"
      ]
     },
     "execution_count": 29,
     "metadata": {},
     "output_type": "execute_result"
    }
   ],
   "source": [
    "sample_dim.columns"
   ]
  },
  {
   "cell_type": "code",
   "execution_count": 30,
   "id": "7ad4a162",
   "metadata": {},
   "outputs": [],
   "source": [
    "#subset for only the wanted columns in the dimension\n",
    "sample_dim = sample_dim[[\"sample_number\"]]"
   ]
  },
  {
   "cell_type": "code",
   "execution_count": 31,
   "id": "57c858de",
   "metadata": {},
   "outputs": [
    {
     "data": {
      "text/plain": [
       "sample_number    48786\n",
       "dtype: int64"
      ]
     },
     "execution_count": 31,
     "metadata": {},
     "output_type": "execute_result"
    }
   ],
   "source": [
    "sample_dim.count()"
   ]
  },
  {
   "cell_type": "code",
   "execution_count": 32,
   "id": "7120763d",
   "metadata": {},
   "outputs": [
    {
     "data": {
      "text/html": [
       "<div>\n",
       "<style scoped>\n",
       "    .dataframe tbody tr th:only-of-type {\n",
       "        vertical-align: middle;\n",
       "    }\n",
       "\n",
       "    .dataframe tbody tr th {\n",
       "        vertical-align: top;\n",
       "    }\n",
       "\n",
       "    .dataframe thead th {\n",
       "        text-align: right;\n",
       "    }\n",
       "</style>\n",
       "<table border=\"1\" class=\"dataframe\">\n",
       "  <thead>\n",
       "    <tr style=\"text-align: right;\">\n",
       "      <th></th>\n",
       "      <th>sample_number</th>\n",
       "    </tr>\n",
       "  </thead>\n",
       "  <tbody>\n",
       "    <tr>\n",
       "      <th>0</th>\n",
       "      <td>201900113</td>\n",
       "    </tr>\n",
       "    <tr>\n",
       "      <th>1</th>\n",
       "      <td>201900114</td>\n",
       "    </tr>\n",
       "    <tr>\n",
       "      <th>2</th>\n",
       "      <td>201900115</td>\n",
       "    </tr>\n",
       "    <tr>\n",
       "      <th>3</th>\n",
       "      <td>201900116</td>\n",
       "    </tr>\n",
       "    <tr>\n",
       "      <th>4</th>\n",
       "      <td>201900119</td>\n",
       "    </tr>\n",
       "  </tbody>\n",
       "</table>\n",
       "</div>"
      ],
      "text/plain": [
       "  sample_number\n",
       "0     201900113\n",
       "1     201900114\n",
       "2     201900115\n",
       "3     201900116\n",
       "4     201900119"
      ]
     },
     "execution_count": 32,
     "metadata": {},
     "output_type": "execute_result"
    }
   ],
   "source": [
    "#drop duplicate rows in dimension\n",
    "sample_dim = sample_dim.drop_duplicates(subset = ['sample_number'], keep = 'first')\n",
    "sample_dim = sample_dim.reset_index(drop = True)\n",
    "sample_dim.head()"
   ]
  },
  {
   "cell_type": "code",
   "execution_count": 33,
   "id": "ac4d8294",
   "metadata": {},
   "outputs": [
    {
     "data": {
      "text/plain": [
       "sample_number    48786\n",
       "dtype: int64"
      ]
     },
     "execution_count": 33,
     "metadata": {},
     "output_type": "execute_result"
    }
   ],
   "source": [
    "sample_dim.count()"
   ]
  },
  {
   "cell_type": "code",
   "execution_count": 34,
   "id": "25c13b7d",
   "metadata": {},
   "outputs": [
    {
     "data": {
      "text/html": [
       "<div>\n",
       "<style scoped>\n",
       "    .dataframe tbody tr th:only-of-type {\n",
       "        vertical-align: middle;\n",
       "    }\n",
       "\n",
       "    .dataframe tbody tr th {\n",
       "        vertical-align: top;\n",
       "    }\n",
       "\n",
       "    .dataframe thead th {\n",
       "        text-align: right;\n",
       "    }\n",
       "</style>\n",
       "<table border=\"1\" class=\"dataframe\">\n",
       "  <thead>\n",
       "    <tr style=\"text-align: right;\">\n",
       "      <th></th>\n",
       "      <th>sample_id</th>\n",
       "      <th>sample_number</th>\n",
       "    </tr>\n",
       "  </thead>\n",
       "  <tbody>\n",
       "    <tr>\n",
       "      <th>0</th>\n",
       "      <td>1000</td>\n",
       "      <td>201900113</td>\n",
       "    </tr>\n",
       "    <tr>\n",
       "      <th>1</th>\n",
       "      <td>1001</td>\n",
       "      <td>201900114</td>\n",
       "    </tr>\n",
       "    <tr>\n",
       "      <th>2</th>\n",
       "      <td>1002</td>\n",
       "      <td>201900115</td>\n",
       "    </tr>\n",
       "    <tr>\n",
       "      <th>3</th>\n",
       "      <td>1003</td>\n",
       "      <td>201900116</td>\n",
       "    </tr>\n",
       "    <tr>\n",
       "      <th>4</th>\n",
       "      <td>1004</td>\n",
       "      <td>201900119</td>\n",
       "    </tr>\n",
       "  </tbody>\n",
       "</table>\n",
       "</div>"
      ],
      "text/plain": [
       "   sample_id sample_number\n",
       "0       1000     201900113\n",
       "1       1001     201900114\n",
       "2       1002     201900115\n",
       "3       1003     201900116\n",
       "4       1004     201900119"
      ]
     },
     "execution_count": 34,
     "metadata": {},
     "output_type": "execute_result"
    }
   ],
   "source": [
    "#add sample_id as a surrogate key\n",
    "sample_dim.insert(0, 'sample_id', range(1000, 1000 + len(sample_dim)))\n",
    "sample_dim.head()"
   ]
  },
  {
   "cell_type": "code",
   "execution_count": 35,
   "id": "8b518a4d",
   "metadata": {},
   "outputs": [
    {
     "data": {
      "text/html": [
       "<div>\n",
       "<style scoped>\n",
       "    .dataframe tbody tr th:only-of-type {\n",
       "        vertical-align: middle;\n",
       "    }\n",
       "\n",
       "    .dataframe tbody tr th {\n",
       "        vertical-align: top;\n",
       "    }\n",
       "\n",
       "    .dataframe thead th {\n",
       "        text-align: right;\n",
       "    }\n",
       "</style>\n",
       "<table border=\"1\" class=\"dataframe\">\n",
       "  <thead>\n",
       "    <tr style=\"text-align: right;\">\n",
       "      <th></th>\n",
       "      <th>sample_number</th>\n",
       "      <th>sample_date</th>\n",
       "      <th>sample_time</th>\n",
       "      <th>residual_free_chlorine_mg_l</th>\n",
       "      <th>turbidity_ntu</th>\n",
       "      <th>e_coli_quanti_tray_mpn_100ml</th>\n",
       "      <th>date_id</th>\n",
       "      <th>sample_id</th>\n",
       "    </tr>\n",
       "  </thead>\n",
       "  <tbody>\n",
       "    <tr>\n",
       "      <th>0</th>\n",
       "      <td>201900113</td>\n",
       "      <td>2019-01-02T00:00:00.000</td>\n",
       "      <td>09:39</td>\n",
       "      <td>0.31</td>\n",
       "      <td>0.55</td>\n",
       "      <td>0.0</td>\n",
       "      <td>20190102</td>\n",
       "      <td>1000</td>\n",
       "    </tr>\n",
       "    <tr>\n",
       "      <th>1</th>\n",
       "      <td>201900114</td>\n",
       "      <td>2019-01-02T00:00:00.000</td>\n",
       "      <td>08:59</td>\n",
       "      <td>0.25</td>\n",
       "      <td>0.52</td>\n",
       "      <td>0.0</td>\n",
       "      <td>20190102</td>\n",
       "      <td>1001</td>\n",
       "    </tr>\n",
       "  </tbody>\n",
       "</table>\n",
       "</div>"
      ],
      "text/plain": [
       "  sample_number              sample_date sample_time  \\\n",
       "0     201900113  2019-01-02T00:00:00.000       09:39   \n",
       "1     201900114  2019-01-02T00:00:00.000       08:59   \n",
       "\n",
       "   residual_free_chlorine_mg_l  turbidity_ntu  e_coli_quanti_tray_mpn_100ml  \\\n",
       "0                         0.31           0.55                           0.0   \n",
       "1                         0.25           0.52                           0.0   \n",
       "\n",
       "    date_id  sample_id  \n",
       "0  20190102       1000  \n",
       "1  20190102       1001  "
      ]
     },
     "execution_count": 35,
     "metadata": {},
     "output_type": "execute_result"
    }
   ],
   "source": [
    "#add the sample_id to the Fact table\n",
    "drinking_water_data = drinking_water_data.merge(sample_dim[['sample_number', 'sample_id']],\n",
    "                  left_on = 'sample_number',\n",
    "                  right_on = 'sample_number',\n",
    "                  how = 'left')\n",
    "\n",
    "drinking_water_data.head(2)"
   ]
  },
  {
   "cell_type": "markdown",
   "id": "854445ae",
   "metadata": {},
   "source": [
    "### creating facts"
   ]
  },
  {
   "cell_type": "code",
   "execution_count": 36,
   "id": "706dde7c",
   "metadata": {},
   "outputs": [],
   "source": [
    "drinking_water_fact_table = drinking_water_data.copy()"
   ]
  },
  {
   "cell_type": "code",
   "execution_count": 37,
   "id": "93188692",
   "metadata": {},
   "outputs": [
    {
     "data": {
      "text/plain": [
       "Index(['sample_number', 'sample_date', 'sample_time',\n",
       "       'residual_free_chlorine_mg_l', 'turbidity_ntu',\n",
       "       'e_coli_quanti_tray_mpn_100ml', 'date_id', 'sample_id'],\n",
       "      dtype='object')"
      ]
     },
     "execution_count": 37,
     "metadata": {},
     "output_type": "execute_result"
    }
   ],
   "source": [
    "drinking_water_fact_table.columns"
   ]
  },
  {
   "cell_type": "code",
   "execution_count": 38,
   "id": "e6b4b38b",
   "metadata": {},
   "outputs": [
    {
     "data": {
      "text/html": [
       "<div>\n",
       "<style scoped>\n",
       "    .dataframe tbody tr th:only-of-type {\n",
       "        vertical-align: middle;\n",
       "    }\n",
       "\n",
       "    .dataframe tbody tr th {\n",
       "        vertical-align: top;\n",
       "    }\n",
       "\n",
       "    .dataframe thead th {\n",
       "        text-align: right;\n",
       "    }\n",
       "</style>\n",
       "<table border=\"1\" class=\"dataframe\">\n",
       "  <thead>\n",
       "    <tr style=\"text-align: right;\">\n",
       "      <th></th>\n",
       "      <th>date_id</th>\n",
       "      <th>sample_id</th>\n",
       "      <th>residual_free_chlorine_mg_l</th>\n",
       "      <th>turbidity_ntu</th>\n",
       "      <th>e_coli_quanti_tray_mpn_100ml</th>\n",
       "    </tr>\n",
       "  </thead>\n",
       "  <tbody>\n",
       "    <tr>\n",
       "      <th>0</th>\n",
       "      <td>20190102</td>\n",
       "      <td>1000</td>\n",
       "      <td>0.31</td>\n",
       "      <td>0.55</td>\n",
       "      <td>0.0</td>\n",
       "    </tr>\n",
       "    <tr>\n",
       "      <th>1</th>\n",
       "      <td>20190102</td>\n",
       "      <td>1001</td>\n",
       "      <td>0.25</td>\n",
       "      <td>0.52</td>\n",
       "      <td>0.0</td>\n",
       "    </tr>\n",
       "    <tr>\n",
       "      <th>2</th>\n",
       "      <td>20190102</td>\n",
       "      <td>1002</td>\n",
       "      <td>0.40</td>\n",
       "      <td>0.75</td>\n",
       "      <td>0.0</td>\n",
       "    </tr>\n",
       "    <tr>\n",
       "      <th>3</th>\n",
       "      <td>20190102</td>\n",
       "      <td>1003</td>\n",
       "      <td>0.64</td>\n",
       "      <td>0.00</td>\n",
       "      <td>0.0</td>\n",
       "    </tr>\n",
       "    <tr>\n",
       "      <th>4</th>\n",
       "      <td>20190102</td>\n",
       "      <td>1004</td>\n",
       "      <td>0.77</td>\n",
       "      <td>0.66</td>\n",
       "      <td>0.0</td>\n",
       "    </tr>\n",
       "  </tbody>\n",
       "</table>\n",
       "</div>"
      ],
      "text/plain": [
       "    date_id  sample_id  residual_free_chlorine_mg_l  turbidity_ntu  \\\n",
       "0  20190102       1000                         0.31           0.55   \n",
       "1  20190102       1001                         0.25           0.52   \n",
       "2  20190102       1002                         0.40           0.75   \n",
       "3  20190102       1003                         0.64           0.00   \n",
       "4  20190102       1004                         0.77           0.66   \n",
       "\n",
       "   e_coli_quanti_tray_mpn_100ml  \n",
       "0                           0.0  \n",
       "1                           0.0  \n",
       "2                           0.0  \n",
       "3                           0.0  \n",
       "4                           0.0  "
      ]
     },
     "execution_count": 38,
     "metadata": {},
     "output_type": "execute_result"
    }
   ],
   "source": [
    "drinking_water_fact_table = drinking_water_fact_table[[\"date_id\",\n",
    "                         \"sample_id\",\n",
    "                         \"residual_free_chlorine_mg_l\",\n",
    "                        \"turbidity_ntu\",\n",
    "                        \"e_coli_quanti_tray_mpn_100ml\"]]\n",
    "\n",
    "drinking_water_fact_table.head()"
   ]
  },
  {
   "cell_type": "markdown",
   "id": "9a53d2c1",
   "metadata": {},
   "source": [
    "## STEP 6"
   ]
  },
  {
   "cell_type": "markdown",
   "id": "6bd31130",
   "metadata": {},
   "source": [
    "### Deliver Facts and Dimensions to Data Warehouse (BigQuery)"
   ]
  },
  {
   "cell_type": "code",
   "execution_count": 39,
   "id": "0f703f7f",
   "metadata": {},
   "outputs": [],
   "source": [
    "# create a function to load dataframes to BigQuery\n",
    "\n",
    "def load_table_to_bigquery(df,\n",
    "                          table_name,\n",
    "                          dataset_id):\n",
    "\n",
    "    dataset_id = dataset_id #change 301800 to match your project id\n",
    "\n",
    "    dataset_ref = bigquery_client.dataset(dataset_id)\n",
    "    job_config = bigquery.LoadJobConfig()\n",
    "    job_config.autodetect = True\n",
    "    job_config.write_disposition = \"WRITE_TRUNCATE\"\n",
    "\n",
    "    upload_table_name = f\"{dataset_id}.{table_name}\"\n",
    "    \n",
    "    load_job = bigquery_client.load_table_from_dataframe(df,\n",
    "                                                upload_table_name,\n",
    "                                                job_config = job_config)\n",
    "        \n",
    "    print(f\"Starting job {load_job}\")"
   ]
  },
  {
   "cell_type": "code",
   "execution_count": 40,
   "id": "4b23d108",
   "metadata": {},
   "outputs": [
    {
     "name": "stdout",
     "output_type": "stream",
     "text": [
      "Starting job LoadJob<project=cis9440-340719, location=US, id=575e9661-c167-47da-82b8-d18907d31827>\n"
     ]
    }
   ],
   "source": [
    "# load date dimension to BigQuery\n",
    "\n",
    "load_table_to_bigquery(df = date_dim,\n",
    "                      table_name = \"date_dim\",\n",
    "                      dataset_id = dataset_id)"
   ]
  },
  {
   "cell_type": "code",
   "execution_count": 41,
   "id": "0e4d44de",
   "metadata": {},
   "outputs": [
    {
     "name": "stdout",
     "output_type": "stream",
     "text": [
      "Starting job LoadJob<project=cis9440-340719, location=US, id=dd4110c5-1963-4464-b1c3-17c39959bfa0>\n"
     ]
    }
   ],
   "source": [
    "#load sample dimension to BigQuery\n",
    "load_table_to_bigquery(df = sample_dim,\n",
    "                      table_name = \"sample_dim\",\n",
    "                      dataset_id = dataset_id)"
   ]
  },
  {
   "cell_type": "code",
   "execution_count": 42,
   "id": "b10dc48e",
   "metadata": {},
   "outputs": [
    {
     "name": "stdout",
     "output_type": "stream",
     "text": [
      "Starting job LoadJob<project=cis9440-340719, location=US, id=7947253a-1d68-40e4-a091-11640586b597>\n"
     ]
    }
   ],
   "source": [
    "#load fact table to BigQuery\n",
    "load_table_to_bigquery(df = drinking_water_fact_table,\n",
    "                      table_name = \"drinking_water_fact\",\n",
    "                      dataset_id = dataset_id)"
   ]
  },
  {
   "cell_type": "markdown",
   "id": "84dc069d",
   "metadata": {},
   "source": [
    "### Tap Water ETL"
   ]
  },
  {
   "cell_type": "markdown",
   "id": "5f2b82a9",
   "metadata": {},
   "source": [
    "## STEP 1"
   ]
  },
  {
   "cell_type": "code",
   "execution_count": 43,
   "id": "40cec66b",
   "metadata": {},
   "outputs": [],
   "source": [
    "#https://data.cityofnewyork.us/resource/k5us-nav4.json\n",
    "tap_water = 'k5us-nav4'"
   ]
  },
  {
   "cell_type": "markdown",
   "id": "2952be11",
   "metadata": {},
   "source": [
    "## STEP 2"
   ]
  },
  {
   "cell_type": "code",
   "execution_count": 44,
   "id": "a8e1fa28",
   "metadata": {},
   "outputs": [
    {
     "name": "stdout",
     "output_type": "stream",
     "text": [
      "total records in k5us-nav4: [{'COUNT': '26113'}]\n"
     ]
    }
   ],
   "source": [
    "total_record_count = nyc_open_data_client.get(tap_water, select = \"COUNT(*)\")\n",
    "print(f\"total records in {tap_water}: {total_record_count}\")"
   ]
  },
  {
   "cell_type": "code",
   "execution_count": 45,
   "id": "5db88faa",
   "metadata": {},
   "outputs": [
    {
     "name": "stdout",
     "output_type": "stream",
     "text": [
      "target records in k5us-nav4: [{'COUNT': '11339'}]\n"
     ]
    }
   ],
   "source": [
    "target_record_count = nyc_open_data_client.get(tap_water,\n",
    "                                               where = \"date_received > '2019-01-01'\",\n",
    "                                               select= \"COUNT(*)\")\n",
    "print(f\"target records in {tap_water}: {target_record_count}\")"
   ]
  },
  {
   "cell_type": "code",
   "execution_count": 46,
   "id": "a4780709",
   "metadata": {},
   "outputs": [
    {
     "name": "stdout",
     "output_type": "stream",
     "text": [
      "function took 1.7 seconds\n",
      "the shape of your dataframe is: (11339, 11)\n"
     ]
    }
   ],
   "source": [
    "def pull_data_in_chunks(target_record_count):\n",
    "    \n",
    "    # measure time this function takes\n",
    "    import time\n",
    "    start_time = time.time()\n",
    "\n",
    "    start = 0             # start at 0\n",
    "    chunk_size = 2000     # fetch 2000 rows at a time\n",
    "    results = []          # empty out our result list\n",
    "    record_count = target_record_count\n",
    "\n",
    "    while True:\n",
    "\n",
    "        # fetch the set of records starting at 'start'\n",
    "        results.extend(nyc_open_data_client.get(tap_water,\n",
    "                                                where = \"date_received > '2019-01-01'\",\n",
    "                                                offset = start,\n",
    "                                                limit = chunk_size))\n",
    "\n",
    "        # update the starting record number\n",
    "        start = start + chunk_size\n",
    "\n",
    "        # if we have fetched all of the records (we have reached record_count), exit loop\n",
    "        if (start > int(record_count[0]['COUNT'])):\n",
    "            break\n",
    "\n",
    "    # convert the list into a pandas data frame\n",
    "    tap_water_data = pd.DataFrame.from_records(results)\n",
    "\n",
    "    end_time = time.time()\n",
    "    print(f\"function took {round(end_time - start_time, 1)} seconds\")\n",
    "\n",
    "    print(f\"the shape of your dataframe is: {tap_water_data.shape}\")\n",
    "    return tap_water_data\n",
    "\n",
    "tap_water_data = pull_data_in_chunks(target_record_count)"
   ]
  },
  {
   "cell_type": "markdown",
   "id": "bd559940",
   "metadata": {},
   "source": [
    "## STEP 3"
   ]
  },
  {
   "cell_type": "code",
   "execution_count": 47,
   "id": "c10b6a5a",
   "metadata": {},
   "outputs": [
    {
     "data": {
      "text/html": [
       "<div>\n",
       "<style scoped>\n",
       "    .dataframe tbody tr th:only-of-type {\n",
       "        vertical-align: middle;\n",
       "    }\n",
       "\n",
       "    .dataframe tbody tr th {\n",
       "        vertical-align: top;\n",
       "    }\n",
       "\n",
       "    .dataframe thead th {\n",
       "        text-align: right;\n",
       "    }\n",
       "</style>\n",
       "<table border=\"1\" class=\"dataframe\">\n",
       "  <thead>\n",
       "    <tr style=\"text-align: right;\">\n",
       "      <th></th>\n",
       "      <th>kit_id</th>\n",
       "      <th>borough</th>\n",
       "      <th>zipcode</th>\n",
       "      <th>date_collected</th>\n",
       "      <th>date_received</th>\n",
       "      <th>lead_first_draw_mg_l</th>\n",
       "      <th>lead_1_2_minute_flush_mg_l</th>\n",
       "      <th>copper_first_draw_mg_l</th>\n",
       "      <th>copper_1_2_minute_flush_mg_l</th>\n",
       "      <th>lead_5_minute_flush_mg_l</th>\n",
       "      <th>copper_5_minute_flush_mg_l</th>\n",
       "    </tr>\n",
       "  </thead>\n",
       "  <tbody>\n",
       "    <tr>\n",
       "      <th>0</th>\n",
       "      <td>18256330</td>\n",
       "      <td>BROOKLYN</td>\n",
       "      <td>11215</td>\n",
       "      <td>2018-12-30T00:00:00.000</td>\n",
       "      <td>2019-01-02T00:00:00.000</td>\n",
       "      <td>0</td>\n",
       "      <td>0</td>\n",
       "      <td>0.243</td>\n",
       "      <td>0.032</td>\n",
       "      <td>NaN</td>\n",
       "      <td>NaN</td>\n",
       "    </tr>\n",
       "    <tr>\n",
       "      <th>1</th>\n",
       "      <td>18256275</td>\n",
       "      <td>NEW YORK</td>\n",
       "      <td>10024</td>\n",
       "      <td>2018-12-31T00:00:00.000</td>\n",
       "      <td>2019-01-02T00:00:00.000</td>\n",
       "      <td>0</td>\n",
       "      <td>0</td>\n",
       "      <td>0.031</td>\n",
       "      <td>0.02</td>\n",
       "      <td>NaN</td>\n",
       "      <td>NaN</td>\n",
       "    </tr>\n",
       "    <tr>\n",
       "      <th>2</th>\n",
       "      <td>18255738</td>\n",
       "      <td>NEW YORK</td>\n",
       "      <td>10028</td>\n",
       "      <td>2018-12-29T00:00:00.000</td>\n",
       "      <td>2019-01-02T00:00:00.000</td>\n",
       "      <td>0</td>\n",
       "      <td>0</td>\n",
       "      <td>0.166</td>\n",
       "      <td>0.067</td>\n",
       "      <td>NaN</td>\n",
       "      <td>NaN</td>\n",
       "    </tr>\n",
       "    <tr>\n",
       "      <th>3</th>\n",
       "      <td>18256310</td>\n",
       "      <td>BRONX</td>\n",
       "      <td>10462</td>\n",
       "      <td>2018-12-29T00:00:00.000</td>\n",
       "      <td>2019-01-02T00:00:00.000</td>\n",
       "      <td>0</td>\n",
       "      <td>0</td>\n",
       "      <td>0.275</td>\n",
       "      <td>0.073</td>\n",
       "      <td>NaN</td>\n",
       "      <td>NaN</td>\n",
       "    </tr>\n",
       "    <tr>\n",
       "      <th>4</th>\n",
       "      <td>18256200</td>\n",
       "      <td>BRONX</td>\n",
       "      <td>10469</td>\n",
       "      <td>2018-12-30T00:00:00.000</td>\n",
       "      <td>2019-01-02T00:00:00.000</td>\n",
       "      <td>0.001</td>\n",
       "      <td>0</td>\n",
       "      <td>0.314</td>\n",
       "      <td>0.191</td>\n",
       "      <td>NaN</td>\n",
       "      <td>NaN</td>\n",
       "    </tr>\n",
       "  </tbody>\n",
       "</table>\n",
       "</div>"
      ],
      "text/plain": [
       "     kit_id   borough zipcode           date_collected  \\\n",
       "0  18256330  BROOKLYN   11215  2018-12-30T00:00:00.000   \n",
       "1  18256275  NEW YORK   10024  2018-12-31T00:00:00.000   \n",
       "2  18255738  NEW YORK   10028  2018-12-29T00:00:00.000   \n",
       "3  18256310     BRONX   10462  2018-12-29T00:00:00.000   \n",
       "4  18256200     BRONX   10469  2018-12-30T00:00:00.000   \n",
       "\n",
       "             date_received lead_first_draw_mg_l lead_1_2_minute_flush_mg_l  \\\n",
       "0  2019-01-02T00:00:00.000                    0                          0   \n",
       "1  2019-01-02T00:00:00.000                    0                          0   \n",
       "2  2019-01-02T00:00:00.000                    0                          0   \n",
       "3  2019-01-02T00:00:00.000                    0                          0   \n",
       "4  2019-01-02T00:00:00.000                0.001                          0   \n",
       "\n",
       "  copper_first_draw_mg_l copper_1_2_minute_flush_mg_l  \\\n",
       "0                  0.243                        0.032   \n",
       "1                  0.031                         0.02   \n",
       "2                  0.166                        0.067   \n",
       "3                  0.275                        0.073   \n",
       "4                  0.314                        0.191   \n",
       "\n",
       "  lead_5_minute_flush_mg_l copper_5_minute_flush_mg_l  \n",
       "0                      NaN                        NaN  \n",
       "1                      NaN                        NaN  \n",
       "2                      NaN                        NaN  \n",
       "3                      NaN                        NaN  \n",
       "4                      NaN                        NaN  "
      ]
     },
     "execution_count": 47,
     "metadata": {},
     "output_type": "execute_result"
    }
   ],
   "source": [
    "tap_water_data.head()"
   ]
  },
  {
   "cell_type": "code",
   "execution_count": 48,
   "id": "90e75b6d",
   "metadata": {
    "scrolled": true
   },
   "outputs": [
    {
     "data": {
      "text/plain": [
       "Index(['kit_id', 'borough', 'zipcode', 'date_collected', 'date_received',\n",
       "       'lead_first_draw_mg_l', 'lead_1_2_minute_flush_mg_l',\n",
       "       'copper_first_draw_mg_l', 'copper_1_2_minute_flush_mg_l',\n",
       "       'lead_5_minute_flush_mg_l', 'copper_5_minute_flush_mg_l'],\n",
       "      dtype='object')"
      ]
     },
     "execution_count": 48,
     "metadata": {},
     "output_type": "execute_result"
    }
   ],
   "source": [
    "tap_water_data.columns"
   ]
  },
  {
   "cell_type": "code",
   "execution_count": 49,
   "id": "d5ec0f87",
   "metadata": {},
   "outputs": [
    {
     "name": "stdout",
     "output_type": "stream",
     "text": [
      "<class 'pandas.core.frame.DataFrame'>\n",
      "RangeIndex: 11339 entries, 0 to 11338\n",
      "Data columns (total 11 columns):\n",
      " #   Column                        Non-Null Count  Dtype \n",
      "---  ------                        --------------  ----- \n",
      " 0   kit_id                        11339 non-null  object\n",
      " 1   borough                       11339 non-null  object\n",
      " 2   zipcode                       11339 non-null  object\n",
      " 3   date_collected                11339 non-null  object\n",
      " 4   date_received                 11339 non-null  object\n",
      " 5   lead_first_draw_mg_l          11339 non-null  object\n",
      " 6   lead_1_2_minute_flush_mg_l    11333 non-null  object\n",
      " 7   copper_first_draw_mg_l        11339 non-null  object\n",
      " 8   copper_1_2_minute_flush_mg_l  11333 non-null  object\n",
      " 9   lead_5_minute_flush_mg_l      250 non-null    object\n",
      " 10  copper_5_minute_flush_mg_l    250 non-null    object\n",
      "dtypes: object(11)\n",
      "memory usage: 974.6+ KB\n"
     ]
    }
   ],
   "source": [
    "tap_water_data.info()"
   ]
  },
  {
   "cell_type": "markdown",
   "id": "a20c7654",
   "metadata": {},
   "source": [
    "### clean data"
   ]
  },
  {
   "cell_type": "code",
   "execution_count": 50,
   "id": "b5ce4995",
   "metadata": {},
   "outputs": [
    {
     "data": {
      "text/plain": [
       "11089"
      ]
     },
     "execution_count": 50,
     "metadata": {},
     "output_type": "execute_result"
    }
   ],
   "source": [
    "tap_water_data['lead_5_minute_flush_mg_l'].isna().sum()"
   ]
  },
  {
   "cell_type": "code",
   "execution_count": 51,
   "id": "a23a9d95",
   "metadata": {},
   "outputs": [
    {
     "data": {
      "text/plain": [
       "11089"
      ]
     },
     "execution_count": 51,
     "metadata": {},
     "output_type": "execute_result"
    }
   ],
   "source": [
    "tap_water_data['copper_5_minute_flush_mg_l'].isna().sum()"
   ]
  },
  {
   "cell_type": "code",
   "execution_count": 52,
   "id": "6b885915",
   "metadata": {},
   "outputs": [
    {
     "name": "stdout",
     "output_type": "stream",
     "text": [
      "columns left in dataframe: Index(['kit_id', 'borough', 'zipcode', 'date_received', 'lead_first_draw_mg_l',\n",
      "       'lead_1_2_minute_flush_mg_l', 'copper_first_draw_mg_l',\n",
      "       'copper_1_2_minute_flush_mg_l'],\n",
      "      dtype='object')\n"
     ]
    }
   ],
   "source": [
    "drop_columns = ['date_collected','lead_5_minute_flush_mg_l','copper_5_minute_flush_mg_l']\n",
    "\n",
    "for column in drop_columns:\n",
    "    try:\n",
    "        tap_water_data.drop(column, axis = 1, inplace = True)\n",
    "    except:\n",
    "        print(f\"unable to drop {column}\")\n",
    "\n",
    "print(f\"columns left in dataframe: {tap_water_data.columns}\")"
   ]
  },
  {
   "cell_type": "code",
   "execution_count": 53,
   "id": "4105aefb",
   "metadata": {},
   "outputs": [
    {
     "name": "stdout",
     "output_type": "stream",
     "text": [
      "number of duplicate rows: 0\n"
     ]
    }
   ],
   "source": [
    "print(f\"number of duplicate rows: {len(tap_water_data[tap_water_data.duplicated()])}\")"
   ]
  },
  {
   "cell_type": "code",
   "execution_count": 54,
   "id": "9444c454",
   "metadata": {},
   "outputs": [
    {
     "data": {
      "text/plain": [
       "Index(['kit_id', 'borough', 'zipcode', 'date_received', 'lead_first_draw_mg_l',\n",
       "       'lead_1_2_minute_flush_mg_l', 'copper_first_draw_mg_l',\n",
       "       'copper_1_2_minute_flush_mg_l'],\n",
       "      dtype='object')"
      ]
     },
     "execution_count": 54,
     "metadata": {},
     "output_type": "execute_result"
    }
   ],
   "source": [
    "tap_water_data.columns"
   ]
  },
  {
   "cell_type": "markdown",
   "id": "91d147e7",
   "metadata": {},
   "source": [
    "### change data type"
   ]
  },
  {
   "cell_type": "code",
   "execution_count": 55,
   "id": "7f29fa7a",
   "metadata": {},
   "outputs": [
    {
     "name": "stdout",
     "output_type": "stream",
     "text": [
      "<class 'pandas.core.frame.DataFrame'>\n",
      "RangeIndex: 11339 entries, 0 to 11338\n",
      "Data columns (total 8 columns):\n",
      " #   Column                        Non-Null Count  Dtype \n",
      "---  ------                        --------------  ----- \n",
      " 0   kit_id                        11339 non-null  object\n",
      " 1   borough                       11339 non-null  object\n",
      " 2   zipcode                       11339 non-null  object\n",
      " 3   date_received                 11339 non-null  object\n",
      " 4   lead_first_draw_mg_l          11339 non-null  object\n",
      " 5   lead_1_2_minute_flush_mg_l    11333 non-null  object\n",
      " 6   copper_first_draw_mg_l        11339 non-null  object\n",
      " 7   copper_1_2_minute_flush_mg_l  11333 non-null  object\n",
      "dtypes: object(8)\n",
      "memory usage: 708.8+ KB\n"
     ]
    }
   ],
   "source": [
    "tap_water_data.info()"
   ]
  },
  {
   "cell_type": "code",
   "execution_count": 56,
   "id": "fdc7777e",
   "metadata": {},
   "outputs": [],
   "source": [
    "tap_water_data = tap_water_data.astype({'lead_first_draw_mg_l':'float',\n",
    "                                                              'lead_1_2_minute_flush_mg_l':'float',\n",
    "                                                              'copper_first_draw_mg_l':'float',\n",
    "                                        'copper_1_2_minute_flush_mg_l':'float'})"
   ]
  },
  {
   "cell_type": "markdown",
   "id": "a3f03554",
   "metadata": {},
   "source": [
    "## STEP 4"
   ]
  },
  {
   "cell_type": "markdown",
   "id": "729aff31",
   "metadata": {},
   "source": [
    "### date dimension"
   ]
  },
  {
   "cell_type": "code",
   "execution_count": 57,
   "id": "3ad8ace8",
   "metadata": {},
   "outputs": [],
   "source": [
    "tap_water_data['date_id'] = tap_water_data['date_received'].apply(lambda x: pd.to_datetime(x).strftime(\"%Y%m%d\"))"
   ]
  },
  {
   "cell_type": "markdown",
   "id": "93209d34",
   "metadata": {},
   "source": [
    "### location dimension"
   ]
  },
  {
   "cell_type": "code",
   "execution_count": 58,
   "id": "ef1a1704",
   "metadata": {},
   "outputs": [],
   "source": [
    "location_dim = tap_water_data.copy()"
   ]
  },
  {
   "cell_type": "code",
   "execution_count": 59,
   "id": "d0ad9172",
   "metadata": {},
   "outputs": [
    {
     "data": {
      "text/plain": [
       "Index(['kit_id', 'borough', 'zipcode', 'date_received', 'lead_first_draw_mg_l',\n",
       "       'lead_1_2_minute_flush_mg_l', 'copper_first_draw_mg_l',\n",
       "       'copper_1_2_minute_flush_mg_l', 'date_id'],\n",
       "      dtype='object')"
      ]
     },
     "execution_count": 59,
     "metadata": {},
     "output_type": "execute_result"
    }
   ],
   "source": [
    "location_dim.columns"
   ]
  },
  {
   "cell_type": "code",
   "execution_count": 60,
   "id": "0316570b",
   "metadata": {},
   "outputs": [],
   "source": [
    "location_dim = location_dim[[\"borough\",\n",
    "                             \"zipcode\"]]"
   ]
  },
  {
   "cell_type": "code",
   "execution_count": 61,
   "id": "e99bf378",
   "metadata": {},
   "outputs": [
    {
     "data": {
      "text/html": [
       "<div>\n",
       "<style scoped>\n",
       "    .dataframe tbody tr th:only-of-type {\n",
       "        vertical-align: middle;\n",
       "    }\n",
       "\n",
       "    .dataframe tbody tr th {\n",
       "        vertical-align: top;\n",
       "    }\n",
       "\n",
       "    .dataframe thead th {\n",
       "        text-align: right;\n",
       "    }\n",
       "</style>\n",
       "<table border=\"1\" class=\"dataframe\">\n",
       "  <thead>\n",
       "    <tr style=\"text-align: right;\">\n",
       "      <th></th>\n",
       "      <th>borough</th>\n",
       "      <th>zipcode</th>\n",
       "    </tr>\n",
       "  </thead>\n",
       "  <tbody>\n",
       "    <tr>\n",
       "      <th>0</th>\n",
       "      <td>BROOKLYN</td>\n",
       "      <td>11215</td>\n",
       "    </tr>\n",
       "    <tr>\n",
       "      <th>1</th>\n",
       "      <td>NEW YORK</td>\n",
       "      <td>10024</td>\n",
       "    </tr>\n",
       "    <tr>\n",
       "      <th>2</th>\n",
       "      <td>NEW YORK</td>\n",
       "      <td>10028</td>\n",
       "    </tr>\n",
       "    <tr>\n",
       "      <th>3</th>\n",
       "      <td>BRONX</td>\n",
       "      <td>10462</td>\n",
       "    </tr>\n",
       "    <tr>\n",
       "      <th>4</th>\n",
       "      <td>BRONX</td>\n",
       "      <td>10469</td>\n",
       "    </tr>\n",
       "  </tbody>\n",
       "</table>\n",
       "</div>"
      ],
      "text/plain": [
       "    borough zipcode\n",
       "0  BROOKLYN   11215\n",
       "1  NEW YORK   10024\n",
       "2  NEW YORK   10028\n",
       "3     BRONX   10462\n",
       "4     BRONX   10469"
      ]
     },
     "execution_count": 61,
     "metadata": {},
     "output_type": "execute_result"
    }
   ],
   "source": [
    "location_dim.head()"
   ]
  },
  {
   "cell_type": "code",
   "execution_count": 62,
   "id": "136df2b1",
   "metadata": {},
   "outputs": [
    {
     "data": {
      "text/html": [
       "<div>\n",
       "<style scoped>\n",
       "    .dataframe tbody tr th:only-of-type {\n",
       "        vertical-align: middle;\n",
       "    }\n",
       "\n",
       "    .dataframe tbody tr th {\n",
       "        vertical-align: top;\n",
       "    }\n",
       "\n",
       "    .dataframe thead th {\n",
       "        text-align: right;\n",
       "    }\n",
       "</style>\n",
       "<table border=\"1\" class=\"dataframe\">\n",
       "  <thead>\n",
       "    <tr style=\"text-align: right;\">\n",
       "      <th></th>\n",
       "      <th>borough</th>\n",
       "      <th>zipcode</th>\n",
       "    </tr>\n",
       "  </thead>\n",
       "  <tbody>\n",
       "    <tr>\n",
       "      <th>0</th>\n",
       "      <td>BROOKLYN</td>\n",
       "      <td>11215</td>\n",
       "    </tr>\n",
       "    <tr>\n",
       "      <th>1</th>\n",
       "      <td>NEW YORK</td>\n",
       "      <td>10024</td>\n",
       "    </tr>\n",
       "    <tr>\n",
       "      <th>2</th>\n",
       "      <td>NEW YORK</td>\n",
       "      <td>10028</td>\n",
       "    </tr>\n",
       "    <tr>\n",
       "      <th>3</th>\n",
       "      <td>BRONX</td>\n",
       "      <td>10462</td>\n",
       "    </tr>\n",
       "    <tr>\n",
       "      <th>4</th>\n",
       "      <td>BRONX</td>\n",
       "      <td>10469</td>\n",
       "    </tr>\n",
       "  </tbody>\n",
       "</table>\n",
       "</div>"
      ],
      "text/plain": [
       "    borough zipcode\n",
       "0  BROOKLYN   11215\n",
       "1  NEW YORK   10024\n",
       "2  NEW YORK   10028\n",
       "3     BRONX   10462\n",
       "4     BRONX   10469"
      ]
     },
     "execution_count": 62,
     "metadata": {},
     "output_type": "execute_result"
    }
   ],
   "source": [
    "location_dim = location_dim.drop_duplicates(subset = [\"zipcode\"], keep = 'first')\n",
    "location_dim = location_dim.reset_index(drop = True)\n",
    "location_dim.head()"
   ]
  },
  {
   "cell_type": "code",
   "execution_count": 63,
   "id": "4ba753a3",
   "metadata": {},
   "outputs": [
    {
     "data": {
      "text/html": [
       "<div>\n",
       "<style scoped>\n",
       "    .dataframe tbody tr th:only-of-type {\n",
       "        vertical-align: middle;\n",
       "    }\n",
       "\n",
       "    .dataframe tbody tr th {\n",
       "        vertical-align: top;\n",
       "    }\n",
       "\n",
       "    .dataframe thead th {\n",
       "        text-align: right;\n",
       "    }\n",
       "</style>\n",
       "<table border=\"1\" class=\"dataframe\">\n",
       "  <thead>\n",
       "    <tr style=\"text-align: right;\">\n",
       "      <th></th>\n",
       "      <th>location_id</th>\n",
       "      <th>borough</th>\n",
       "      <th>zipcode</th>\n",
       "    </tr>\n",
       "  </thead>\n",
       "  <tbody>\n",
       "    <tr>\n",
       "      <th>0</th>\n",
       "      <td>5000</td>\n",
       "      <td>BROOKLYN</td>\n",
       "      <td>11215</td>\n",
       "    </tr>\n",
       "    <tr>\n",
       "      <th>1</th>\n",
       "      <td>5001</td>\n",
       "      <td>NEW YORK</td>\n",
       "      <td>10024</td>\n",
       "    </tr>\n",
       "    <tr>\n",
       "      <th>2</th>\n",
       "      <td>5002</td>\n",
       "      <td>NEW YORK</td>\n",
       "      <td>10028</td>\n",
       "    </tr>\n",
       "    <tr>\n",
       "      <th>3</th>\n",
       "      <td>5003</td>\n",
       "      <td>BRONX</td>\n",
       "      <td>10462</td>\n",
       "    </tr>\n",
       "    <tr>\n",
       "      <th>4</th>\n",
       "      <td>5004</td>\n",
       "      <td>BRONX</td>\n",
       "      <td>10469</td>\n",
       "    </tr>\n",
       "  </tbody>\n",
       "</table>\n",
       "</div>"
      ],
      "text/plain": [
       "   location_id   borough zipcode\n",
       "0         5000  BROOKLYN   11215\n",
       "1         5001  NEW YORK   10024\n",
       "2         5002  NEW YORK   10028\n",
       "3         5003     BRONX   10462\n",
       "4         5004     BRONX   10469"
      ]
     },
     "execution_count": 63,
     "metadata": {},
     "output_type": "execute_result"
    }
   ],
   "source": [
    "location_dim.insert(0, 'location_id', range(5000, 5000 + len(location_dim)))\n",
    "location_dim.head()"
   ]
  },
  {
   "cell_type": "code",
   "execution_count": 64,
   "id": "06424949",
   "metadata": {},
   "outputs": [
    {
     "data": {
      "text/html": [
       "<div>\n",
       "<style scoped>\n",
       "    .dataframe tbody tr th:only-of-type {\n",
       "        vertical-align: middle;\n",
       "    }\n",
       "\n",
       "    .dataframe tbody tr th {\n",
       "        vertical-align: top;\n",
       "    }\n",
       "\n",
       "    .dataframe thead th {\n",
       "        text-align: right;\n",
       "    }\n",
       "</style>\n",
       "<table border=\"1\" class=\"dataframe\">\n",
       "  <thead>\n",
       "    <tr style=\"text-align: right;\">\n",
       "      <th></th>\n",
       "      <th>kit_id</th>\n",
       "      <th>borough</th>\n",
       "      <th>zipcode</th>\n",
       "      <th>date_received</th>\n",
       "      <th>lead_first_draw_mg_l</th>\n",
       "      <th>lead_1_2_minute_flush_mg_l</th>\n",
       "      <th>copper_first_draw_mg_l</th>\n",
       "      <th>copper_1_2_minute_flush_mg_l</th>\n",
       "      <th>date_id</th>\n",
       "      <th>location_id</th>\n",
       "    </tr>\n",
       "  </thead>\n",
       "  <tbody>\n",
       "    <tr>\n",
       "      <th>0</th>\n",
       "      <td>18256330</td>\n",
       "      <td>BROOKLYN</td>\n",
       "      <td>11215</td>\n",
       "      <td>2019-01-02T00:00:00.000</td>\n",
       "      <td>0.0</td>\n",
       "      <td>0.0</td>\n",
       "      <td>0.243</td>\n",
       "      <td>0.032</td>\n",
       "      <td>20190102</td>\n",
       "      <td>5000</td>\n",
       "    </tr>\n",
       "    <tr>\n",
       "      <th>1</th>\n",
       "      <td>18256275</td>\n",
       "      <td>NEW YORK</td>\n",
       "      <td>10024</td>\n",
       "      <td>2019-01-02T00:00:00.000</td>\n",
       "      <td>0.0</td>\n",
       "      <td>0.0</td>\n",
       "      <td>0.031</td>\n",
       "      <td>0.020</td>\n",
       "      <td>20190102</td>\n",
       "      <td>5001</td>\n",
       "    </tr>\n",
       "  </tbody>\n",
       "</table>\n",
       "</div>"
      ],
      "text/plain": [
       "     kit_id   borough zipcode            date_received  lead_first_draw_mg_l  \\\n",
       "0  18256330  BROOKLYN   11215  2019-01-02T00:00:00.000                   0.0   \n",
       "1  18256275  NEW YORK   10024  2019-01-02T00:00:00.000                   0.0   \n",
       "\n",
       "   lead_1_2_minute_flush_mg_l  copper_first_draw_mg_l  \\\n",
       "0                         0.0                   0.243   \n",
       "1                         0.0                   0.031   \n",
       "\n",
       "   copper_1_2_minute_flush_mg_l   date_id  location_id  \n",
       "0                         0.032  20190102         5000  \n",
       "1                         0.020  20190102         5001  "
      ]
     },
     "execution_count": 64,
     "metadata": {},
     "output_type": "execute_result"
    }
   ],
   "source": [
    "#add the location_id to the data table\n",
    "tap_water_data = tap_water_data.merge(location_dim[['zipcode', 'location_id']],\n",
    "                  left_on = 'zipcode',\n",
    "                  right_on = 'zipcode',\n",
    "                  how = 'left')\n",
    "\n",
    "tap_water_data.head(2)"
   ]
  },
  {
   "cell_type": "markdown",
   "id": "9cf18cd8",
   "metadata": {},
   "source": [
    "### kit dimension"
   ]
  },
  {
   "cell_type": "code",
   "execution_count": 65,
   "id": "404a8bba",
   "metadata": {},
   "outputs": [],
   "source": [
    "kit_dim = tap_water_data.copy()"
   ]
  },
  {
   "cell_type": "code",
   "execution_count": 66,
   "id": "f130ba83",
   "metadata": {},
   "outputs": [
    {
     "data": {
      "text/plain": [
       "Index(['kit_id', 'borough', 'zipcode', 'date_received', 'lead_first_draw_mg_l',\n",
       "       'lead_1_2_minute_flush_mg_l', 'copper_first_draw_mg_l',\n",
       "       'copper_1_2_minute_flush_mg_l', 'date_id', 'location_id'],\n",
       "      dtype='object')"
      ]
     },
     "execution_count": 66,
     "metadata": {},
     "output_type": "execute_result"
    }
   ],
   "source": [
    "kit_dim.columns"
   ]
  },
  {
   "cell_type": "code",
   "execution_count": 67,
   "id": "1e7df740",
   "metadata": {},
   "outputs": [],
   "source": [
    "kit_dim = kit_dim[[\"kit_id\"]]"
   ]
  },
  {
   "cell_type": "code",
   "execution_count": 68,
   "id": "527ecb6e",
   "metadata": {},
   "outputs": [
    {
     "data": {
      "text/plain": [
       "kit_id    11339\n",
       "dtype: int64"
      ]
     },
     "execution_count": 68,
     "metadata": {},
     "output_type": "execute_result"
    }
   ],
   "source": [
    "kit_dim.count()"
   ]
  },
  {
   "cell_type": "code",
   "execution_count": 69,
   "id": "980e46d4",
   "metadata": {},
   "outputs": [
    {
     "data": {
      "text/html": [
       "<div>\n",
       "<style scoped>\n",
       "    .dataframe tbody tr th:only-of-type {\n",
       "        vertical-align: middle;\n",
       "    }\n",
       "\n",
       "    .dataframe tbody tr th {\n",
       "        vertical-align: top;\n",
       "    }\n",
       "\n",
       "    .dataframe thead th {\n",
       "        text-align: right;\n",
       "    }\n",
       "</style>\n",
       "<table border=\"1\" class=\"dataframe\">\n",
       "  <thead>\n",
       "    <tr style=\"text-align: right;\">\n",
       "      <th></th>\n",
       "      <th>kit_id</th>\n",
       "    </tr>\n",
       "  </thead>\n",
       "  <tbody>\n",
       "    <tr>\n",
       "      <th>0</th>\n",
       "      <td>18256330</td>\n",
       "    </tr>\n",
       "    <tr>\n",
       "      <th>1</th>\n",
       "      <td>18256275</td>\n",
       "    </tr>\n",
       "    <tr>\n",
       "      <th>2</th>\n",
       "      <td>18255738</td>\n",
       "    </tr>\n",
       "    <tr>\n",
       "      <th>3</th>\n",
       "      <td>18256310</td>\n",
       "    </tr>\n",
       "    <tr>\n",
       "      <th>4</th>\n",
       "      <td>18256200</td>\n",
       "    </tr>\n",
       "  </tbody>\n",
       "</table>\n",
       "</div>"
      ],
      "text/plain": [
       "     kit_id\n",
       "0  18256330\n",
       "1  18256275\n",
       "2  18255738\n",
       "3  18256310\n",
       "4  18256200"
      ]
     },
     "execution_count": 69,
     "metadata": {},
     "output_type": "execute_result"
    }
   ],
   "source": [
    "# third, drop duplicate rows in dimension\n",
    "kit_dim = kit_dim.drop_duplicates(subset = ['kit_id'], keep = 'first')\n",
    "kit_dim = kit_dim.reset_index(drop = True)\n",
    "kit_dim.head()"
   ]
  },
  {
   "cell_type": "code",
   "execution_count": 70,
   "id": "42f2a0b8",
   "metadata": {},
   "outputs": [
    {
     "data": {
      "text/plain": [
       "kit_id    11339\n",
       "dtype: int64"
      ]
     },
     "execution_count": 70,
     "metadata": {},
     "output_type": "execute_result"
    }
   ],
   "source": [
    "kit_dim.count()"
   ]
  },
  {
   "cell_type": "code",
   "execution_count": 71,
   "id": "942d3b74",
   "metadata": {},
   "outputs": [
    {
     "data": {
      "text/html": [
       "<div>\n",
       "<style scoped>\n",
       "    .dataframe tbody tr th:only-of-type {\n",
       "        vertical-align: middle;\n",
       "    }\n",
       "\n",
       "    .dataframe tbody tr th {\n",
       "        vertical-align: top;\n",
       "    }\n",
       "\n",
       "    .dataframe thead th {\n",
       "        text-align: right;\n",
       "    }\n",
       "</style>\n",
       "<table border=\"1\" class=\"dataframe\">\n",
       "  <thead>\n",
       "    <tr style=\"text-align: right;\">\n",
       "      <th></th>\n",
       "      <th>kit_key</th>\n",
       "      <th>kit_id</th>\n",
       "    </tr>\n",
       "  </thead>\n",
       "  <tbody>\n",
       "    <tr>\n",
       "      <th>0</th>\n",
       "      <td>2000</td>\n",
       "      <td>18256330</td>\n",
       "    </tr>\n",
       "    <tr>\n",
       "      <th>1</th>\n",
       "      <td>2001</td>\n",
       "      <td>18256275</td>\n",
       "    </tr>\n",
       "    <tr>\n",
       "      <th>2</th>\n",
       "      <td>2002</td>\n",
       "      <td>18255738</td>\n",
       "    </tr>\n",
       "    <tr>\n",
       "      <th>3</th>\n",
       "      <td>2003</td>\n",
       "      <td>18256310</td>\n",
       "    </tr>\n",
       "    <tr>\n",
       "      <th>4</th>\n",
       "      <td>2004</td>\n",
       "      <td>18256200</td>\n",
       "    </tr>\n",
       "  </tbody>\n",
       "</table>\n",
       "</div>"
      ],
      "text/plain": [
       "   kit_key    kit_id\n",
       "0     2000  18256330\n",
       "1     2001  18256275\n",
       "2     2002  18255738\n",
       "3     2003  18256310\n",
       "4     2004  18256200"
      ]
     },
     "execution_count": 71,
     "metadata": {},
     "output_type": "execute_result"
    }
   ],
   "source": [
    "kit_dim.insert(0, 'kit_key', range(2000, 2000 + len(kit_dim)))\n",
    "kit_dim.head()"
   ]
  },
  {
   "cell_type": "code",
   "execution_count": 72,
   "id": "fbe461cb",
   "metadata": {},
   "outputs": [
    {
     "data": {
      "text/html": [
       "<div>\n",
       "<style scoped>\n",
       "    .dataframe tbody tr th:only-of-type {\n",
       "        vertical-align: middle;\n",
       "    }\n",
       "\n",
       "    .dataframe tbody tr th {\n",
       "        vertical-align: top;\n",
       "    }\n",
       "\n",
       "    .dataframe thead th {\n",
       "        text-align: right;\n",
       "    }\n",
       "</style>\n",
       "<table border=\"1\" class=\"dataframe\">\n",
       "  <thead>\n",
       "    <tr style=\"text-align: right;\">\n",
       "      <th></th>\n",
       "      <th>kit_id</th>\n",
       "      <th>borough</th>\n",
       "      <th>zipcode</th>\n",
       "      <th>date_received</th>\n",
       "      <th>lead_first_draw_mg_l</th>\n",
       "      <th>lead_1_2_minute_flush_mg_l</th>\n",
       "      <th>copper_first_draw_mg_l</th>\n",
       "      <th>copper_1_2_minute_flush_mg_l</th>\n",
       "      <th>date_id</th>\n",
       "      <th>location_id</th>\n",
       "      <th>kit_key</th>\n",
       "    </tr>\n",
       "  </thead>\n",
       "  <tbody>\n",
       "    <tr>\n",
       "      <th>0</th>\n",
       "      <td>18256330</td>\n",
       "      <td>BROOKLYN</td>\n",
       "      <td>11215</td>\n",
       "      <td>2019-01-02T00:00:00.000</td>\n",
       "      <td>0.0</td>\n",
       "      <td>0.0</td>\n",
       "      <td>0.243</td>\n",
       "      <td>0.032</td>\n",
       "      <td>20190102</td>\n",
       "      <td>5000</td>\n",
       "      <td>2000</td>\n",
       "    </tr>\n",
       "    <tr>\n",
       "      <th>1</th>\n",
       "      <td>18256275</td>\n",
       "      <td>NEW YORK</td>\n",
       "      <td>10024</td>\n",
       "      <td>2019-01-02T00:00:00.000</td>\n",
       "      <td>0.0</td>\n",
       "      <td>0.0</td>\n",
       "      <td>0.031</td>\n",
       "      <td>0.020</td>\n",
       "      <td>20190102</td>\n",
       "      <td>5001</td>\n",
       "      <td>2001</td>\n",
       "    </tr>\n",
       "  </tbody>\n",
       "</table>\n",
       "</div>"
      ],
      "text/plain": [
       "     kit_id   borough zipcode            date_received  lead_first_draw_mg_l  \\\n",
       "0  18256330  BROOKLYN   11215  2019-01-02T00:00:00.000                   0.0   \n",
       "1  18256275  NEW YORK   10024  2019-01-02T00:00:00.000                   0.0   \n",
       "\n",
       "   lead_1_2_minute_flush_mg_l  copper_first_draw_mg_l  \\\n",
       "0                         0.0                   0.243   \n",
       "1                         0.0                   0.031   \n",
       "\n",
       "   copper_1_2_minute_flush_mg_l   date_id  location_id  kit_key  \n",
       "0                         0.032  20190102         5000     2000  \n",
       "1                         0.020  20190102         5001     2001  "
      ]
     },
     "execution_count": 72,
     "metadata": {},
     "output_type": "execute_result"
    }
   ],
   "source": [
    "tap_water_data = tap_water_data.merge(kit_dim[['kit_id', 'kit_key']],\n",
    "                  left_on = 'kit_id',\n",
    "                  right_on = 'kit_id',\n",
    "                  how = 'left')\n",
    "\n",
    "tap_water_data.head(2)"
   ]
  },
  {
   "cell_type": "markdown",
   "id": "21a23f99",
   "metadata": {},
   "source": [
    "### Fact table for tap water"
   ]
  },
  {
   "cell_type": "code",
   "execution_count": 73,
   "id": "456bcd93",
   "metadata": {},
   "outputs": [],
   "source": [
    "tap_water_fact_table = tap_water_data.copy()"
   ]
  },
  {
   "cell_type": "code",
   "execution_count": 74,
   "id": "9933614a",
   "metadata": {},
   "outputs": [
    {
     "data": {
      "text/html": [
       "<div>\n",
       "<style scoped>\n",
       "    .dataframe tbody tr th:only-of-type {\n",
       "        vertical-align: middle;\n",
       "    }\n",
       "\n",
       "    .dataframe tbody tr th {\n",
       "        vertical-align: top;\n",
       "    }\n",
       "\n",
       "    .dataframe thead th {\n",
       "        text-align: right;\n",
       "    }\n",
       "</style>\n",
       "<table border=\"1\" class=\"dataframe\">\n",
       "  <thead>\n",
       "    <tr style=\"text-align: right;\">\n",
       "      <th></th>\n",
       "      <th>date_id</th>\n",
       "      <th>kit_key</th>\n",
       "      <th>location_id</th>\n",
       "      <th>lead_first_draw_mg_l</th>\n",
       "      <th>lead_1_2_minute_flush_mg_l</th>\n",
       "      <th>copper_first_draw_mg_l</th>\n",
       "      <th>copper_1_2_minute_flush_mg_l</th>\n",
       "    </tr>\n",
       "  </thead>\n",
       "  <tbody>\n",
       "    <tr>\n",
       "      <th>0</th>\n",
       "      <td>20190102</td>\n",
       "      <td>2000</td>\n",
       "      <td>5000</td>\n",
       "      <td>0.000</td>\n",
       "      <td>0.0</td>\n",
       "      <td>0.243</td>\n",
       "      <td>0.032</td>\n",
       "    </tr>\n",
       "    <tr>\n",
       "      <th>1</th>\n",
       "      <td>20190102</td>\n",
       "      <td>2001</td>\n",
       "      <td>5001</td>\n",
       "      <td>0.000</td>\n",
       "      <td>0.0</td>\n",
       "      <td>0.031</td>\n",
       "      <td>0.020</td>\n",
       "    </tr>\n",
       "    <tr>\n",
       "      <th>2</th>\n",
       "      <td>20190102</td>\n",
       "      <td>2002</td>\n",
       "      <td>5002</td>\n",
       "      <td>0.000</td>\n",
       "      <td>0.0</td>\n",
       "      <td>0.166</td>\n",
       "      <td>0.067</td>\n",
       "    </tr>\n",
       "    <tr>\n",
       "      <th>3</th>\n",
       "      <td>20190102</td>\n",
       "      <td>2003</td>\n",
       "      <td>5003</td>\n",
       "      <td>0.000</td>\n",
       "      <td>0.0</td>\n",
       "      <td>0.275</td>\n",
       "      <td>0.073</td>\n",
       "    </tr>\n",
       "    <tr>\n",
       "      <th>4</th>\n",
       "      <td>20190102</td>\n",
       "      <td>2004</td>\n",
       "      <td>5004</td>\n",
       "      <td>0.001</td>\n",
       "      <td>0.0</td>\n",
       "      <td>0.314</td>\n",
       "      <td>0.191</td>\n",
       "    </tr>\n",
       "  </tbody>\n",
       "</table>\n",
       "</div>"
      ],
      "text/plain": [
       "    date_id  kit_key  location_id  lead_first_draw_mg_l  \\\n",
       "0  20190102     2000         5000                 0.000   \n",
       "1  20190102     2001         5001                 0.000   \n",
       "2  20190102     2002         5002                 0.000   \n",
       "3  20190102     2003         5003                 0.000   \n",
       "4  20190102     2004         5004                 0.001   \n",
       "\n",
       "   lead_1_2_minute_flush_mg_l  copper_first_draw_mg_l  \\\n",
       "0                         0.0                   0.243   \n",
       "1                         0.0                   0.031   \n",
       "2                         0.0                   0.166   \n",
       "3                         0.0                   0.275   \n",
       "4                         0.0                   0.314   \n",
       "\n",
       "   copper_1_2_minute_flush_mg_l  \n",
       "0                         0.032  \n",
       "1                         0.020  \n",
       "2                         0.067  \n",
       "3                         0.073  \n",
       "4                         0.191  "
      ]
     },
     "execution_count": 74,
     "metadata": {},
     "output_type": "execute_result"
    }
   ],
   "source": [
    "tap_water_fact_table = tap_water_fact_table[[\"date_id\",\n",
    "                         \"kit_key\",\"location_id\",\n",
    "                         \"lead_first_draw_mg_l\",\n",
    "                        \"lead_1_2_minute_flush_mg_l\",\n",
    "                        \"copper_first_draw_mg_l\",\"copper_1_2_minute_flush_mg_l\"]]\n",
    "\n",
    "tap_water_fact_table.head()"
   ]
  },
  {
   "cell_type": "markdown",
   "id": "b6a268de",
   "metadata": {},
   "source": [
    "## STEP 6"
   ]
  },
  {
   "cell_type": "markdown",
   "id": "dfba14ba",
   "metadata": {},
   "source": [
    "## Deliver Facts and Dimensions to Data Warehouse (BigQuery)"
   ]
  },
  {
   "cell_type": "code",
   "execution_count": 75,
   "id": "7d6f6f3b",
   "metadata": {},
   "outputs": [
    {
     "name": "stdout",
     "output_type": "stream",
     "text": [
      "Starting job LoadJob<project=cis9440-340719, location=US, id=43e4953a-824f-4438-bf14-8c7eed40fbfa>\n"
     ]
    }
   ],
   "source": [
    "load_table_to_bigquery(df = location_dim,\n",
    "                      table_name = \"location_dim\",\n",
    "                      dataset_id = dataset_id)"
   ]
  },
  {
   "cell_type": "code",
   "execution_count": 76,
   "id": "1d979918",
   "metadata": {},
   "outputs": [
    {
     "name": "stdout",
     "output_type": "stream",
     "text": [
      "Starting job LoadJob<project=cis9440-340719, location=US, id=0b058463-88ff-4d81-97c9-1241a84c78db>\n"
     ]
    }
   ],
   "source": [
    "load_table_to_bigquery(df = kit_dim,\n",
    "                      table_name = \"kit_dim\",\n",
    "                      dataset_id = dataset_id)"
   ]
  },
  {
   "cell_type": "code",
   "execution_count": 77,
   "id": "74589479",
   "metadata": {},
   "outputs": [
    {
     "name": "stdout",
     "output_type": "stream",
     "text": [
      "Starting job LoadJob<project=cis9440-340719, location=US, id=e6d49187-e2df-44a7-b8f2-510beac35208>\n"
     ]
    }
   ],
   "source": [
    "load_table_to_bigquery(df = tap_water_fact_table,\n",
    "                      table_name = \"tap_water_fact\",\n",
    "                      dataset_id = dataset_id)"
   ]
  },
  {
   "cell_type": "code",
   "execution_count": null,
   "id": "62772d07",
   "metadata": {},
   "outputs": [],
   "source": []
  }
 ],
 "metadata": {
  "kernelspec": {
   "display_name": "Python 3 (ipykernel)",
   "language": "python",
   "name": "python3"
  },
  "language_info": {
   "codemirror_mode": {
    "name": "ipython",
    "version": 3
   },
   "file_extension": ".py",
   "mimetype": "text/x-python",
   "name": "python",
   "nbconvert_exporter": "python",
   "pygments_lexer": "ipython3",
   "version": "3.9.7"
  }
 },
 "nbformat": 4,
 "nbformat_minor": 5
}
